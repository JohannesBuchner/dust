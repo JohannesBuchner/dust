{
 "cells": [
  {
   "cell_type": "code",
   "execution_count": 1,
   "metadata": {
    "collapsed": false
   },
   "outputs": [
    {
     "name": "stdout",
     "output_type": "stream",
     "text": [
      "/Users/lia/dev/dust\r\n"
     ]
    }
   ],
   "source": [
    "!pwd"
   ]
  },
  {
   "cell_type": "code",
   "execution_count": 2,
   "metadata": {
    "collapsed": false
   },
   "outputs": [],
   "source": [
    "import numpy as np\n",
    "import matplotlib.pyplot as plt\n",
    "\n",
    "import dust\n",
    "import sigma_scat as ss\n",
    "\n",
    "%matplotlib inline"
   ]
  },
  {
   "cell_type": "code",
   "execution_count": 3,
   "metadata": {
    "collapsed": true
   },
   "outputs": [],
   "source": [
    "AMIN, AMAX = 0.005, 0.25 # microns\n",
    "NA  = 50  # number of points to use to sample distribution\n",
    "RHO = 3.8 # grain density (g cm^-3)\n",
    "P   = 3.5 # power law slope\n",
    "mrn = dust.Dustdist( rad=np.linspace(AMIN,AMAX,NA), rho=RHO, p=P )\n",
    "\n",
    "ENERGY = np.logspace(-1,1,25)\n",
    "MDUST  = 1.e22 * dust.c.mp() * 0.009  # magic numbers (dust mass per 10^22 H)"
   ]
  },
  {
   "cell_type": "markdown",
   "metadata": {},
   "source": [
    "## Test that Mie.Qsca works"
   ]
  },
  {
   "cell_type": "code",
   "execution_count": 4,
   "metadata": {
    "collapsed": true
   },
   "outputs": [],
   "source": [
    "import scatmodels as sms\n",
    "import cmindex as cm"
   ]
  },
  {
   "cell_type": "code",
   "execution_count": 5,
   "metadata": {
    "collapsed": true
   },
   "outputs": [],
   "source": [
    "agrid = np.linspace(AMIN, AMAX, NA)"
   ]
  },
  {
   "cell_type": "code",
   "execution_count": 6,
   "metadata": {
    "collapsed": false
   },
   "outputs": [
    {
     "data": {
      "text/plain": [
       "<module 'scatmodels' from 'scatmodels.pyc'>"
      ]
     },
     "execution_count": 6,
     "metadata": {},
     "output_type": "execute_result"
    }
   ],
   "source": [
    "reload(sms)"
   ]
  },
  {
   "cell_type": "code",
   "execution_count": 7,
   "metadata": {
    "collapsed": false
   },
   "outputs": [],
   "source": [
    "#agrid[None, :] + np.zeros((10, len(agrid)))"
   ]
  },
  {
   "cell_type": "code",
   "execution_count": 8,
   "metadata": {
    "collapsed": false
   },
   "outputs": [],
   "source": [
    "#np.tile(agrid, 10).reshape(10, len(agrid))"
   ]
  },
  {
   "cell_type": "code",
   "execution_count": 9,
   "metadata": {
    "collapsed": true
   },
   "outputs": [],
   "source": [
    "mymie = sms.Mie()"
   ]
  },
  {
   "cell_type": "code",
   "execution_count": 10,
   "metadata": {
    "collapsed": false
   },
   "outputs": [],
   "source": [
    "test = mymie.Qsca(E=ENERGY, a=agrid, cm=cm.CmSilicate() )"
   ]
  },
  {
   "cell_type": "code",
   "execution_count": 11,
   "metadata": {
    "collapsed": false
   },
   "outputs": [
    {
     "data": {
      "text/plain": [
       "(25, 50)"
      ]
     },
     "execution_count": 11,
     "metadata": {},
     "output_type": "execute_result"
    }
   ],
   "source": [
    "test.shape"
   ]
  },
  {
   "cell_type": "markdown",
   "metadata": {},
   "source": [
    "## Try out the new Kappascat"
   ]
  },
  {
   "cell_type": "code",
   "execution_count": 12,
   "metadata": {
    "collapsed": false
   },
   "outputs": [
    {
     "data": {
      "text/plain": [
       "<module 'sigma_scat' from 'sigma_scat.pyc'>"
      ]
     },
     "execution_count": 12,
     "metadata": {},
     "output_type": "execute_result"
    }
   ],
   "source": [
    "reload(ss)"
   ]
  },
  {
   "cell_type": "code",
   "execution_count": 13,
   "metadata": {
    "collapsed": false
   },
   "outputs": [],
   "source": [
    "kappascat = ss.Kappascat(E=ENERGY, dist=dust.Dustspectrum(rad=mrn), \n",
    "                         scatm=ss.makeScatmodel('Mie','Silicate'))"
   ]
  },
  {
   "cell_type": "code",
   "execution_count": 14,
   "metadata": {
    "collapsed": true
   },
   "outputs": [],
   "source": [
    "import cProfile\n",
    "import pstats"
   ]
  },
  {
   "cell_type": "code",
   "execution_count": 15,
   "metadata": {
    "collapsed": true
   },
   "outputs": [],
   "source": [
    "profile_name = 'Kappascat.prof'"
   ]
  },
  {
   "cell_type": "code",
   "execution_count": 16,
   "metadata": {
    "collapsed": false
   },
   "outputs": [],
   "source": [
    "cProfile.run(\"kappascat()\",filename=profile_name)"
   ]
  },
  {
   "cell_type": "code",
   "execution_count": 17,
   "metadata": {
    "collapsed": false
   },
   "outputs": [
    {
     "name": "stdout",
     "output_type": "stream",
     "text": [
      "Wed Sep 30 16:24:44 2015    Kappascat.prof\n",
      "\n",
      "         588898 function calls in 12.322 seconds\n",
      "\n",
      "   Ordered by: cumulative time\n",
      "   List reduced from 43 to 20 due to restriction <20>\n",
      "\n",
      "   ncalls  tottime  percall  cumtime  percall filename:lineno(function)\n",
      "        1    0.000    0.000   12.322   12.322 <string>:1(<module>)\n",
      "        1    0.000    0.000   12.322   12.322 sigma_scat.py:205(__call__)\n",
      "        1    0.002    0.002   12.322   12.322 scatmodels.py:388(Qsca)\n",
      "       25   11.861    0.474   12.317    0.493 scatmodels.py:131(getQs)\n",
      "   335335    0.356    0.000    0.356    0.000 {numpy.core.multiarray.zeros}\n",
      "    83821    0.054    0.000    0.054    0.000 {numpy.core.multiarray.where}\n",
      "   167667    0.044    0.000    0.044    0.000 fromnumeric.py:2514(size)\n",
      "       50    0.000    0.000    0.004    0.000 polyint.py:62(__call__)\n",
      "       50    0.000    0.000    0.003    0.000 interpolate.py:492(_evaluate)\n",
      "       50    0.001    0.000    0.001    0.000 interpolate.py:443(_call_linear)\n",
      "       50    0.000    0.000    0.001    0.000 interpolate.py:503(_check_bounds)\n",
      "      151    0.001    0.000    0.001    0.000 {method 'reduce' of 'numpy.ufunc' objects}\n",
      "       50    0.000    0.000    0.001    0.000 polyint.py:88(_prepare_x)\n",
      "       50    0.000    0.000    0.001    0.000 fromnumeric.py:2058(amax)\n",
      "      100    0.000    0.000    0.000    0.000 {method 'any' of 'numpy.ndarray' objects}\n",
      "      100    0.000    0.000    0.000    0.000 _methods.py:37(_any)\n",
      "       50    0.000    0.000    0.000    0.000 {numpy.core.multiarray.arange}\n",
      "       50    0.000    0.000    0.000    0.000 fromnumeric.py:963(searchsorted)\n",
      "       50    0.000    0.000    0.000    0.000 _methods.py:25(_amax)\n",
      "      378    0.000    0.000    0.000    0.000 {numpy.core.multiarray.array}\n",
      "\n",
      "\n"
     ]
    },
    {
     "data": {
      "text/plain": [
       "<pstats.Stats instance at 0x105a20098>"
      ]
     },
     "execution_count": 17,
     "metadata": {},
     "output_type": "execute_result"
    }
   ],
   "source": [
    "stats = pstats.Stats(profile_name)\n",
    "stats.strip_dirs()\n",
    "stats.sort_stats('cumtime').print_stats(20)"
   ]
  },
  {
   "cell_type": "markdown",
   "metadata": {},
   "source": [
    "** Now that kappascat has run, plot it **"
   ]
  },
  {
   "cell_type": "code",
   "execution_count": 18,
   "metadata": {
    "collapsed": false
   },
   "outputs": [
    {
     "data": {
      "text/plain": [
       "<matplotlib.text.Text at 0x1076f0c10>"
      ]
     },
     "execution_count": 18,
     "metadata": {},
     "output_type": "execute_result"
    },
    {
     "data": {
      "image/png": "[encoded data removed]",
      "text/plain": [
       "<matplotlib.figure.Figure at 0x1076ba910>"
      ]
     },
     "metadata": {},
     "output_type": "display_data"
    }
   ],
   "source": [
    "plt.plot( kappascat.E, kappascat.kappa * MDUST, 'go' )\n",
    "plt.loglog()\n",
    "plt.xlabel('Energy [keV]')\n",
    "plt.ylabel(r'$\\tau_{sca}$ per $10^{22}$ H')"
   ]
  },
  {
   "cell_type": "markdown",
   "metadata": {},
   "source": [
    "## Do the same, for Kappaext"
   ]
  },
  {
   "cell_type": "code",
   "execution_count": 19,
   "metadata": {
    "collapsed": false
   },
   "outputs": [
    {
     "data": {
      "text/plain": [
       "<module 'scatmodels' from 'scatmodels.pyc'>"
      ]
     },
     "execution_count": 19,
     "metadata": {},
     "output_type": "execute_result"
    }
   ],
   "source": [
    "reload(ss)\n",
    "reload(sms)"
   ]
  },
  {
   "cell_type": "code",
   "execution_count": 20,
   "metadata": {
    "collapsed": false
   },
   "outputs": [],
   "source": [
    "kappaext = ss.Kappaext(E=ENERGY, dist=dust.Dustspectrum(rad=mrn), \n",
    "                         scatm=ss.makeScatmodel('Mie','Silicate'))"
   ]
  },
  {
   "cell_type": "code",
   "execution_count": 21,
   "metadata": {
    "collapsed": false
   },
   "outputs": [],
   "source": [
    "cProfile.run(\"kappaext()\",filename=\"Kappaext.prof\")"
   ]
  },
  {
   "cell_type": "code",
   "execution_count": 22,
   "metadata": {
    "collapsed": false
   },
   "outputs": [
    {
     "name": "stdout",
     "output_type": "stream",
     "text": [
      "Wed Sep 30 16:24:58 2015    Kappaext.prof\n",
      "\n",
      "         588898 function calls in 13.475 seconds\n",
      "\n",
      "   Ordered by: cumulative time\n",
      "   List reduced from 43 to 20 due to restriction <20>\n",
      "\n",
      "   ncalls  tottime  percall  cumtime  percall filename:lineno(function)\n",
      "        1    0.000    0.000   13.475   13.475 <string>:1(<module>)\n",
      "        1    0.000    0.000   13.475   13.475 sigma_scat.py:250(__call__)\n",
      "        1    0.002    0.002   13.475   13.475 scatmodels.py:402(Qext)\n",
      "       25   12.974    0.519   13.470    0.539 scatmodels.py:131(getQs)\n",
      "   335335    0.380    0.000    0.380    0.000 {numpy.core.multiarray.zeros}\n",
      "    83821    0.063    0.000    0.063    0.000 {numpy.core.multiarray.where}\n",
      "   167667    0.051    0.000    0.051    0.000 fromnumeric.py:2514(size)\n",
      "       50    0.000    0.000    0.004    0.000 polyint.py:62(__call__)\n",
      "       50    0.000    0.000    0.003    0.000 interpolate.py:492(_evaluate)\n",
      "       50    0.001    0.000    0.002    0.000 interpolate.py:443(_call_linear)\n",
      "       50    0.000    0.000    0.001    0.000 interpolate.py:503(_check_bounds)\n",
      "      151    0.001    0.000    0.001    0.000 {method 'reduce' of 'numpy.ufunc' objects}\n",
      "       50    0.000    0.000    0.001    0.000 polyint.py:88(_prepare_x)\n",
      "       50    0.000    0.000    0.001    0.000 fromnumeric.py:2058(amax)\n",
      "      100    0.000    0.000    0.000    0.000 {method 'any' of 'numpy.ndarray' objects}\n",
      "      100    0.000    0.000    0.000    0.000 _methods.py:37(_any)\n",
      "       50    0.000    0.000    0.000    0.000 fromnumeric.py:963(searchsorted)\n",
      "       50    0.000    0.000    0.000    0.000 {numpy.core.multiarray.arange}\n",
      "       50    0.000    0.000    0.000    0.000 _methods.py:25(_amax)\n",
      "       25    0.000    0.000    0.000    0.000 function_base.py:3832(append)\n",
      "\n",
      "\n"
     ]
    },
    {
     "data": {
      "text/plain": [
       "<pstats.Stats instance at 0x105a20bd8>"
      ]
     },
     "execution_count": 22,
     "metadata": {},
     "output_type": "execute_result"
    }
   ],
   "source": [
    "stats = pstats.Stats(\"Kappaext.prof\")\n",
    "stats.strip_dirs()\n",
    "stats.sort_stats('cumtime').print_stats(20)"
   ]
  },
  {
   "cell_type": "code",
   "execution_count": 23,
   "metadata": {
    "collapsed": false
   },
   "outputs": [
    {
     "data": {
      "text/plain": [
       "<matplotlib.text.Text at 0x10849ee10>"
      ]
     },
     "execution_count": 23,
     "metadata": {},
     "output_type": "execute_result"
    },
    {
     "data": {
      "image/png": "[encoded data removed]",
      "text/plain": [
       "<matplotlib.figure.Figure at 0x10847a110>"
      ]
     },
     "metadata": {},
     "output_type": "display_data"
    }
   ],
   "source": [
    "plt.plot( kappaext.E, kappaext.kappa * MDUST, 'go' )\n",
    "plt.loglog()\n",
    "plt.xlabel('Energy [keV]')\n",
    "plt.ylabel(r'$\\tau_{ext}$ per $10^{22}$ H')"
   ]
  },
  {
   "cell_type": "code",
   "execution_count": null,
   "metadata": {
    "collapsed": true
   },
   "outputs": [],
   "source": []
  }
 ],
 "metadata": {
  "kernelspec": {
   "display_name": "Python 2",
   "language": "python",
   "name": "python2"
  },
  "language_info": {
   "codemirror_mode": {
    "name": "ipython",
    "version": 2
   },
   "file_extension": ".py",
   "mimetype": "text/x-python",
   "name": "python",
   "nbconvert_exporter": "python",
   "pygments_lexer": "ipython2",
   "version": "2.7.10"
  }
 },
 "nbformat": 4,
 "nbformat_minor": 0
}
