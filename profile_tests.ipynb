{
 "cells": [
  {
   "cell_type": "code",
   "execution_count": 2,
   "metadata": {
    "collapsed": false
   },
   "outputs": [],
   "source": [
    "import numpy as np\n",
    "import matplotlib.pyplot as plt\n",
    "\n",
    "import dust\n",
    "import sigma_scat as ss\n",
    "\n",
    "%matplotlib inline"
   ]
  },
  {
   "cell_type": "code",
   "execution_count": 3,
   "metadata": {
    "collapsed": true
   },
   "outputs": [],
   "source": [
    "AMIN, AMAX = 0.005, 0.25 # microns\n",
    "NA  = 50  # number of points to use to sample distribution\n",
    "RHO = 3.8 # grain density (g cm^-3)\n",
    "P   = 3.5 # power law slope\n",
    "mrn = dust.Dustdist( rad=np.linspace(AMIN,AMAX,NA), rho=RHO, p=P )\n",
    "\n",
    "ENERGY = np.logspace(-1,1,50)\n",
    "MDUST  = 1.e22 * dust.c.mp() * 0.009  # magic numbers (dust mass per 10^22 H)"
   ]
  },
  {
   "cell_type": "markdown",
   "metadata": {},
   "source": [
    "## Try out the new Kappascat"
   ]
  },
  {
   "cell_type": "code",
   "execution_count": 14,
   "metadata": {
    "collapsed": false
   },
   "outputs": [],
   "source": [
    "kappascat = ss.Kappascat(E=ENERGY, dist=dust.Dustspectrum(rad=mrn), \n",
    "                         scatm=ss.makeScatmodel('Mie','Silicate'))"
   ]
  },
  {
   "cell_type": "code",
   "execution_count": 15,
   "metadata": {
    "collapsed": true
   },
   "outputs": [],
   "source": [
    "import cProfile\n",
    "import pstats"
   ]
  },
  {
   "cell_type": "code",
   "execution_count": 16,
   "metadata": {
    "collapsed": true
   },
   "outputs": [],
   "source": [
    "profile_name = 'Kappascat.prof'"
   ]
  },
  {
   "cell_type": "code",
   "execution_count": 17,
   "metadata": {
    "collapsed": false
   },
   "outputs": [],
   "source": [
    "cProfile.run(\"kappascat()\",filename=profile_name)"
   ]
  },
  {
   "cell_type": "code",
   "execution_count": 18,
   "metadata": {
    "collapsed": false
   },
   "outputs": [
    {
     "name": "stdout",
     "output_type": "stream",
     "text": [
      "Tue Sep 29 17:04:14 2015    Kappascat.prof\n",
      "\n",
      "         2292459 function calls in 50.635 seconds\n",
      "\n",
      "   Ordered by: cumulative time\n",
      "   List reduced from 45 to 20 due to restriction <20>\n",
      "\n",
      "   ncalls  tottime  percall  cumtime  percall filename:lineno(function)\n",
      "        1    0.000    0.000   50.635   50.635 <string>:1(<module>)\n",
      "        1    0.001    0.001   50.635   50.635 sigma_scat.py:204(__call__)\n",
      "       50    0.000    0.000   50.633    1.013 sigma_scat.py:246(_one_scatter)\n",
      "       50    0.044    0.001   50.633    1.013 scatmodels.py:382(Qsca)\n",
      "       50   48.735    0.975   50.589    1.012 scatmodels.py:123(getQs)\n",
      "  1306841    1.389    0.000    1.389    0.000 {numpy.core.multiarray.zeros}\n",
      "   326685    0.259    0.000    0.259    0.000 {numpy.core.multiarray.where}\n",
      "   653476    0.194    0.000    0.194    0.000 fromnumeric.py:2514(size)\n",
      "      100    0.000    0.000    0.009    0.000 polyint.py:62(__call__)\n",
      "      100    0.001    0.000    0.007    0.000 interpolate.py:492(_evaluate)\n",
      "      100    0.002    0.000    0.004    0.000 interpolate.py:443(_call_linear)\n",
      "      100    0.001    0.000    0.002    0.000 interpolate.py:503(_check_bounds)\n",
      "      350    0.002    0.000    0.002    0.000 {method 'reduce' of 'numpy.ufunc' objects}\n",
      "      100    0.000    0.000    0.001    0.000 polyint.py:88(_prepare_x)\n",
      "      100    0.000    0.000    0.001    0.000 fromnumeric.py:2058(amax)\n",
      "       50    0.000    0.000    0.001    0.000 constants.py:21(intz)\n",
      "      100    0.001    0.000    0.001    0.000 {numpy.core.multiarray.arange}\n",
      "      100    0.000    0.000    0.001    0.000 fromnumeric.py:963(searchsorted)\n",
      "      200    0.000    0.000    0.001    0.000 {method 'any' of 'numpy.ndarray' objects}\n",
      "      100    0.000    0.000    0.001    0.000 function_base.py:3832(append)\n",
      "\n",
      "\n"
     ]
    },
    {
     "data": {
      "text/plain": [
       "<pstats.Stats instance at 0x1076dc710>"
      ]
     },
     "execution_count": 18,
     "metadata": {},
     "output_type": "execute_result"
    }
   ],
   "source": [
    "stats = pstats.Stats(profile_name)\n",
    "stats.strip_dirs()\n",
    "stats.sort_stats('cumtime').print_stats(20)"
   ]
  },
  {
   "cell_type": "markdown",
   "metadata": {},
   "source": [
    "** Now that kappascat has run, plot it **"
   ]
  },
  {
   "cell_type": "code",
   "execution_count": 19,
   "metadata": {
    "collapsed": false
   },
   "outputs": [
    {
     "data": {
      "text/plain": [
       "<matplotlib.text.Text at 0x1076b9750>"
      ]
     },
     "execution_count": 19,
     "metadata": {},
     "output_type": "execute_result"
    },
    {
     "data": {
      "image/png": "[encoded data removed]",
      "text/plain": [
       "<matplotlib.figure.Figure at 0x10762edd0>"
      ]
     },
     "metadata": {},
     "output_type": "display_data"
    }
   ],
   "source": [
    "plt.plot( kappascat.E, kappascat.kappa * MDUST, 'go' )\n",
    "plt.loglog()\n",
    "plt.xlabel('Energy [keV]')\n",
    "plt.ylabel(r'$\\tau_{sca}$ per $10^{22}$ H')"
   ]
  },
  {
   "cell_type": "markdown",
   "metadata": {},
   "source": [
    "## Do the same, for Kappaext"
   ]
  },
  {
   "cell_type": "code",
   "execution_count": 21,
   "metadata": {
    "collapsed": false
   },
   "outputs": [],
   "source": [
    "kappaext = ss.Kappaext(E=ENERGY, dist=dust.Dustspectrum(rad=mrn), \n",
    "                         scatm=ss.makeScatmodel('Mie','Silicate'))"
   ]
  },
  {
   "cell_type": "code",
   "execution_count": 22,
   "metadata": {
    "collapsed": false
   },
   "outputs": [],
   "source": [
    "cProfile.run(\"kappaext()\",filename=\"Kappaext.prof\")"
   ]
  },
  {
   "cell_type": "code",
   "execution_count": 23,
   "metadata": {
    "collapsed": false
   },
   "outputs": [
    {
     "name": "stdout",
     "output_type": "stream",
     "text": [
      "Tue Sep 29 17:07:53 2015    Kappaext.prof\n",
      "\n",
      "         2292409 function calls in 59.018 seconds\n",
      "\n",
      "   Ordered by: cumulative time\n",
      "   List reduced from 44 to 20 due to restriction <20>\n",
      "\n",
      "   ncalls  tottime  percall  cumtime  percall filename:lineno(function)\n",
      "        1    0.000    0.000   59.018   59.018 <string>:1(<module>)\n",
      "        1    0.001    0.001   59.018   59.018 sigma_scat.py:277(__call__)\n",
      "       50    0.060    0.001   59.014    1.180 scatmodels.py:385(Qext)\n",
      "       50   56.768    1.135   58.954    1.179 scatmodels.py:123(getQs)\n",
      "  1306841    1.639    0.000    1.639    0.000 {numpy.core.multiarray.zeros}\n",
      "   326685    0.304    0.000    0.304    0.000 {numpy.core.multiarray.where}\n",
      "   653476    0.229    0.000    0.229    0.000 fromnumeric.py:2514(size)\n",
      "      100    0.000    0.000    0.010    0.000 polyint.py:62(__call__)\n",
      "      100    0.001    0.000    0.007    0.000 interpolate.py:492(_evaluate)\n",
      "      100    0.003    0.000    0.004    0.000 interpolate.py:443(_call_linear)\n",
      "      100    0.001    0.000    0.002    0.000 interpolate.py:503(_check_bounds)\n",
      "      350    0.002    0.000    0.002    0.000 {method 'reduce' of 'numpy.ufunc' objects}\n",
      "       50    0.000    0.000    0.002    0.000 constants.py:21(intz)\n",
      "      100    0.001    0.000    0.002    0.000 polyint.py:88(_prepare_x)\n",
      "       50    0.001    0.000    0.001    0.000 function_base.py:3162(trapz)\n",
      "      100    0.000    0.000    0.001    0.000 fromnumeric.py:2058(amax)\n",
      "      100    0.000    0.000    0.001    0.000 function_base.py:3832(append)\n",
      "      200    0.000    0.000    0.001    0.000 {method 'any' of 'numpy.ndarray' objects}\n",
      "     1001    0.001    0.000    0.001    0.000 {numpy.core.multiarray.array}\n",
      "      100    0.001    0.000    0.001    0.000 {numpy.core.multiarray.arange}\n",
      "\n",
      "\n"
     ]
    },
    {
     "data": {
      "text/plain": [
       "<pstats.Stats instance at 0x107988e60>"
      ]
     },
     "execution_count": 23,
     "metadata": {},
     "output_type": "execute_result"
    }
   ],
   "source": [
    "stats = pstats.Stats(\"Kappaext.prof\")\n",
    "stats.strip_dirs()\n",
    "stats.sort_stats('cumtime').print_stats(20)"
   ]
  },
  {
   "cell_type": "code",
   "execution_count": 24,
   "metadata": {
    "collapsed": false
   },
   "outputs": [
    {
     "data": {
      "text/plain": [
       "<matplotlib.text.Text at 0x107d5fe10>"
      ]
     },
     "execution_count": 24,
     "metadata": {},
     "output_type": "execute_result"
    },
    {
     "data": {
      "image/png": "[encoded data removed]",
      "text/plain": [
       "<matplotlib.figure.Figure at 0x105c38650>"
      ]
     },
     "metadata": {},
     "output_type": "display_data"
    }
   ],
   "source": [
    "plt.plot( kappaext.E, kappaext.kappa * MDUST, 'go' )\n",
    "plt.loglog()\n",
    "plt.xlabel('Energy [keV]')\n",
    "plt.ylabel(r'$\\tau_{ext}$ per $10^{22}$ H')"
   ]
  },
  {
   "cell_type": "markdown",
   "metadata": {},
   "source": [
    "## Profile getQs\n",
    "\n",
    "https://github.com/rkern/line_profiler"
   ]
  },
  {
   "cell_type": "code",
   "execution_count": 26,
   "metadata": {
    "collapsed": false
   },
   "outputs": [],
   "source": [
    "import kernprof"
   ]
  },
  {
   "cell_type": "code",
   "execution_count": null,
   "metadata": {
    "collapsed": true
   },
   "outputs": [],
   "source": [
    "kernprof"
   ]
  }
 ],
 "metadata": {
  "kernelspec": {
   "display_name": "Python 2",
   "language": "python",
   "name": "python2"
  },
  "language_info": {
   "codemirror_mode": {
    "name": "ipython",
    "version": 2
   },
   "file_extension": ".py",
   "mimetype": "text/x-python",
   "name": "python",
   "nbconvert_exporter": "python",
   "pygments_lexer": "ipython2",
   "version": "2.7.10"
  }
 },
 "nbformat": 4,
 "nbformat_minor": 0
}
